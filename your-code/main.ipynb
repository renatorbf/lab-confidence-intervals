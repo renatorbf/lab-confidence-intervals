{
  "cells": [
    {
      "cell_type": "markdown",
      "metadata": {
        "id": "l882deffEEDv"
      },
      "source": [
        "# Confidence Intervals"
      ]
    },
    {
      "cell_type": "code",
      "execution_count": 8,
      "metadata": {
        "id": "FikcZlKgEEDy"
      },
      "outputs": [],
      "source": [
        "# Libraries\n",
        "\n",
        "from scipy import stats\n",
        "import numpy as np"
      ]
    },
    {
      "cell_type": "markdown",
      "metadata": {
        "id": "dZpLlNRKEEDz"
      },
      "source": [
        "## Challenge 1\n",
        "We want to estimate the average size of the men of a country with a confidence level of 80%. Assuming that the standard deviation of the sizes in the population is 4, get the confidence interval with a sample of men selected randomly, whose heights are:\n",
        "\n",
        "````\n",
        "heights = [167, 167, 168, 168, 168, 169, 171, 172, 173, 175, 175, 175, 177, 182, 195]\n",
        "````\n",
        "\n",
        "**Hint**: function `stats.norm.interval` from `scipy` can help you get through this exercise. "
      ]
    },
    {
      "cell_type": "code",
      "execution_count": 20,
      "metadata": {
        "id": "8HMTPuPYEED0",
        "outputId": "c4f2724c-9fa2-4c9d-d966-ef5158ef6257",
        "colab": {
          "base_uri": "https://localhost:8080/"
        }
      },
      "outputs": [
        {
          "output_type": "execute_result",
          "data": {
            "text/plain": [
              "(172.14308590115726, 174.79024743217607)"
            ]
          },
          "metadata": {},
          "execution_count": 20
        }
      ],
      "source": [
        "# your code here\n",
        "heights = [167, 167, 168, 168, 168, 169, 171, 172, 173, 175, 175, 175, 177, 182, 195]\n",
        "\n",
        "mean = np.mean(heights)\n",
        "# std = np.std(heights) # this is just a sample\n",
        "std = 4\n",
        "\n",
        "# len(heights)\n",
        "stats.norm.interval(0.80,loc=mean, scale=std/np.sqrt(15))"
      ]
    },
    {
      "cell_type": "markdown",
      "metadata": {
        "id": "adV_XR5zEED1"
      },
      "source": [
        "## Challenge 2 \n",
        "In a sample of 105 shops selected randomly from an area, we note that 27 of them have had losses in this month. Get an interval for the proportion of businesses in the area with losses to a confidence level of 80% and a confidence level of 90%.\n",
        "\n",
        "**Hint**: function `stats.norm.interval` from `scipy` can help you get through this exercise. "
      ]
    },
    {
      "cell_type": "code",
      "execution_count": 26,
      "metadata": {
        "id": "If2VkXGJEED1",
        "outputId": "7ee32660-9103-440f-90a5-f2823182a220",
        "colab": {
          "base_uri": "https://localhost:8080/",
          "height": 130
        }
      },
      "outputs": [
        {
          "output_type": "error",
          "ename": "SyntaxError",
          "evalue": "ignored",
          "traceback": [
            "\u001b[0;36m  File \u001b[0;32m\"<ipython-input-26-bb5b2dfb6c78>\"\u001b[0;36m, line \u001b[0;32m6\u001b[0m\n\u001b[0;31m    std=???#\u001b[0m\n\u001b[0m        ^\u001b[0m\n\u001b[0;31mSyntaxError\u001b[0m\u001b[0;31m:\u001b[0m invalid syntax\n"
          ]
        }
      ],
      "source": [
        "# your code here\n",
        "n = 105\n",
        "losing = 27\n",
        "mean = 27/105\n",
        "\n",
        "# std=???#\n",
        "print(stats.norm.interval(0.80,loc=mean, scale=std/np.sqrt(105)))\n",
        "print(stats.norm.interval(0.90,loc=mean, scale=std/np.sqrt(105)))\n",
        "\n",
        "\n",
        "# error with std must think later"
      ]
    },
    {
      "cell_type": "markdown",
      "metadata": {
        "id": "-kOglfaHEED1"
      },
      "source": [
        "## Bonus Challenge\n",
        "The error level or sampling error for the first challenge is given by the following expression:\n",
        "$$Error = z_{\\frac{\\alpha}{2}}\\frac{\\sigma}{\\sqrt n}$$\n",
        "Where z represents the value for N(0,1)\n",
        "\n",
        "\n",
        "Suppose that with the previous data of challenge 1, and with a confidence level of\n",
        "99% (that is, almost certainly) we want to estimate the average population size, so that the error level committed is not greater than half a centimeter.\n",
        "\n",
        "#### 1.- Determine what size the selected sample of men should be."
      ]
    },
    {
      "cell_type": "code",
      "execution_count": null,
      "metadata": {
        "id": "weWG5hf0EED2"
      },
      "outputs": [],
      "source": [
        "# your code here"
      ]
    },
    {
      "cell_type": "markdown",
      "metadata": {
        "id": "K4DQv7m5EED3"
      },
      "source": [
        "#### 2.- For the second challenge, we have the following error:\n",
        "$$ Error = z_{\\frac{\\alpha}{2}}\\sqrt{\\frac{p\\times q}{n}} $$\n",
        "#### Determine the sample size required to not exceed an error of 1% with a confidence of 80%."
      ]
    },
    {
      "cell_type": "code",
      "execution_count": null,
      "metadata": {
        "id": "UzWF2xvQEED3"
      },
      "outputs": [],
      "source": [
        "# your code here"
      ]
    },
    {
      "cell_type": "markdown",
      "metadata": {
        "id": "30ffn6EJEED4"
      },
      "source": [
        "## Bonus Challenge\n",
        "\n",
        "Let's consider the following problem:\n",
        "\n",
        "Build a confidence interval of 94% for the real difference between the durations of two brands of spotlights, if a sample of 40 spotlights taken randomly from the first mark gave an average duration of 418 hours, and a sample of 50 bulbs of another brand gave a duration average of 402 hours. The standard deviations of the two\n",
        "populations are 26 hours and 22 hours, respectively.\n",
        "\n",
        "Sometimes, we will be interested in the difference of two different groups of random variables. We can also build a confidence interval for that! We have some different cases regarding the variance but for this specific case (the variance are different and known), we have that:\n",
        "\n",
        "$$\\overline{X} - \\overline{Y}  \\sim N(\\mu_{X} - \\mu_{Y} , \\sqrt{\\frac{\\sigma_{X}^2}{n_X}+\\frac{\\sigma_{Y}^2}{n_Y}})$$\n",
        "\n",
        "Solve the problem with this information."
      ]
    },
    {
      "cell_type": "code",
      "execution_count": null,
      "metadata": {
        "id": "SQsrTMuKEED4"
      },
      "outputs": [],
      "source": [
        "# your code here"
      ]
    }
  ],
  "metadata": {
    "kernelspec": {
      "display_name": "Python 3",
      "language": "python",
      "name": "python3"
    },
    "language_info": {
      "codemirror_mode": {
        "name": "ipython",
        "version": 3
      },
      "file_extension": ".py",
      "mimetype": "text/x-python",
      "name": "python",
      "nbconvert_exporter": "python",
      "pygments_lexer": "ipython3",
      "version": "3.7.3"
    },
    "colab": {
      "name": "main.ipynb",
      "provenance": []
    }
  },
  "nbformat": 4,
  "nbformat_minor": 0
}